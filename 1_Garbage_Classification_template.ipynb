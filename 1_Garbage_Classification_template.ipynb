{
  "cells": [
    {
      "cell_type": "markdown",
      "metadata": {
        "id": "view-in-github",
        "colab_type": "text"
      },
      "source": [
        "<a href=\"https://colab.research.google.com/github/minisemin/fluffy-sniffle/blob/main/1_Garbage_Classification_template.ipynb\" target=\"_parent\"><img src=\"https://colab.research.google.com/assets/colab-badge.svg\" alt=\"Open In Colab\"/></a>"
      ]
    },
    {
      "cell_type": "markdown",
      "metadata": {
        "id": "jHw13ki1nY-R"
      },
      "source": [
        "# Garbage Classification"
      ]
    },
    {
      "cell_type": "markdown",
      "metadata": {
        "id": "8vSMUp8ynj7i"
      },
      "source": [
        "### 라이브러리 불러오기\n",
        "\n",
        "- 수업에서 다룬 tensorflow.keras 모듈들을 불러옵니다.\n",
        "\n",
        "- 사전 지식이 있는 학생이라면 기타 프레임워크(Pytorch)도 사용 가능합니다.\n"
      ]
    },
    {
      "cell_type": "code",
      "execution_count": null,
      "metadata": {
        "id": "JIiz_cD-iqlB"
      },
      "outputs": [],
      "source": []
    },
    {
      "cell_type": "markdown",
      "metadata": {
        "id": "G9zVfTPko_3S"
      },
      "source": [
        "### 데이터 다운로드"
      ]
    },
    {
      "cell_type": "markdown",
      "metadata": {
        "id": "Vi-lEwdN3GuY"
      },
      "source": [
        "- 아래의 코드로 데이터를 다운받습니다.\n"
      ]
    },
    {
      "cell_type": "code",
      "execution_count": null,
      "metadata": {
        "id": "WeMzDXpZkwd3"
      },
      "outputs": [],
      "source": [
        "#!pip install gdown"
      ]
    },
    {
      "cell_type": "code",
      "execution_count": null,
      "metadata": {
        "colab": {
          "base_uri": "https://localhost:8080/",
          "height": 128
        },
        "id": "ogwh2BMEepkd",
        "outputId": "74b3ae64-e214-46f1-d266-81896057eaef",
        "scrolled": true
      },
      "outputs": [
        {
          "name": "stderr",
          "output_type": "stream",
          "text": [
            "Downloading...\n",
            "From (original): https://drive.google.com/uc?id=1gLKQe5Qxe8fC19r7QAfXmBtg_1zLDen6\n",
            "From (redirected): https://drive.google.com/uc?id=1gLKQe5Qxe8fC19r7QAfXmBtg_1zLDen6&confirm=t&uuid=6f8e1dbf-6f2c-4b7f-bf9b-723ce24dad58\n",
            "To: /home/ld/dasol/dataset.zip\n",
            "100%|█████████████████████████████████████████████████████████████| 52.5M/52.5M [00:04<00:00, 11.6MB/s]\n"
          ]
        },
        {
          "data": {
            "text/plain": [
              "'dataset.zip'"
            ]
          },
          "execution_count": 36,
          "metadata": {},
          "output_type": "execute_result"
        }
      ],
      "source": [
        "import zipfile\n",
        "import gdown\n",
        "\n",
        "file_id = '1gLKQe5Qxe8fC19r7QAfXmBtg_1zLDen6'\n",
        "gdown.download(f'https://drive.google.com/uc?id={file_id}', 'dataset.zip', quiet=False)"
      ]
    },
    {
      "cell_type": "code",
      "execution_count": null,
      "metadata": {
        "id": "wZiElW2xgEwK"
      },
      "outputs": [],
      "source": [
        "# 압축 해제\n",
        "with zipfile.ZipFile('dataset.zip', 'r') as zip_ref:\n",
        "    zip_ref.extractall('dataset')"
      ]
    },
    {
      "cell_type": "markdown",
      "metadata": {
        "id": "5cmu3XAFpPnA"
      },
      "source": [
        "### EDA 및 데이터 특성 파악 및 시각화"
      ]
    },
    {
      "cell_type": "markdown",
      "metadata": {
        "id": "4UqR4p-S2409"
      },
      "source": [
        "- 다양한 방법을 사용해 데이터의 기본 정보, 특성, 분포 등을 파악하고 시각화해보세요."
      ]
    },
    {
      "cell_type": "code",
      "execution_count": null,
      "metadata": {
        "id": "Ae3T0W7w1HoY"
      },
      "outputs": [],
      "source": []
    },
    {
      "cell_type": "markdown",
      "metadata": {
        "id": "OJJwoR0VpWUP"
      },
      "source": [
        "### 이미지 전처리 및 데이터 증강"
      ]
    },
    {
      "cell_type": "markdown",
      "metadata": {
        "id": "QWEK0tRT3Pc2"
      },
      "source": [
        "- 이미지 정규화, 리사이징, 데이터 증강, mixup 등 다양한 방법을 사용해서 학습데이터를 생성합니다.\n",
        "- 정규화와 리사이징만 적용하여 검증 데이터와 test 데이터를 생성합니다."
      ]
    },
    {
      "cell_type": "code",
      "source": [],
      "metadata": {
        "id": "8J_Kzx2dqFeb"
      },
      "execution_count": null,
      "outputs": []
    },
    {
      "cell_type": "markdown",
      "metadata": {
        "id": "88_JW4kvqKyJ"
      },
      "source": [
        "### 모델 생성 및 학습"
      ]
    },
    {
      "cell_type": "markdown",
      "metadata": {
        "id": "4p8z0_Wq4I1j"
      },
      "source": [
        "- 다양한 전이학습 CNN 모델들을 실험하고, 성능을 비교해 봅니다.\n",
        "- 적절한 모델, 옵티마이저, 하이퍼파라미터 등을 설정합니다."
      ]
    },
    {
      "cell_type": "code",
      "source": [],
      "metadata": {
        "id": "E3lrz3ZsqHAS"
      },
      "execution_count": null,
      "outputs": []
    },
    {
      "cell_type": "markdown",
      "metadata": {
        "id": "If5n_M3fqM5w"
      },
      "source": [
        "### 학습 결과 시각화"
      ]
    },
    {
      "cell_type": "markdown",
      "metadata": {
        "id": "bAUkVy7l3v_A"
      },
      "source": [
        "- 학슴 과정을 저장하여 시각화함으로써 학습 추이 및 오버피팅 여부를 파악합니다."
      ]
    },
    {
      "cell_type": "code",
      "source": [],
      "metadata": {
        "id": "pB8IICjVqIMj"
      },
      "execution_count": null,
      "outputs": []
    },
    {
      "cell_type": "markdown",
      "metadata": {
        "id": "sJcXg7KqqaI0"
      },
      "source": [
        "### 모델 평가"
      ]
    },
    {
      "cell_type": "markdown",
      "metadata": {
        "id": "6K4bTxlR37nP"
      },
      "source": [
        "- 적절한 평가지표를 선택해 모델의 성능을 평가합니다.\n",
        "- test 데이터셋을 사용해 최종적인 성능을 확인합니다.\n",
        "- 목표 Accuracy: 93% 이상"
      ]
    },
    {
      "cell_type": "code",
      "source": [],
      "metadata": {
        "id": "sWs0j4raqJRA"
      },
      "execution_count": null,
      "outputs": []
    },
    {
      "cell_type": "markdown",
      "source": [
        "### 보너스 과제! 나만의 CNN 모델 구축\n",
        "- Transfer learning이 아닌 나만의 CNN 구조 만들어 보기\n",
        "- 기존의 Baseline CNN 구조를 참고해서 직접 레이어들을 쌓아보세요.\n",
        "- Trnsfer learning 모델의 성능과 비교해 보세요."
      ],
      "metadata": {
        "id": "_BDlX7BPkzKK"
      }
    },
    {
      "cell_type": "code",
      "execution_count": null,
      "metadata": {
        "id": "pmghTKOpkwd_"
      },
      "outputs": [],
      "source": []
    }
  ],
  "metadata": {
    "accelerator": "TPU",
    "colab": {
      "gpuType": "V28",
      "provenance": [],
      "include_colab_link": true
    },
    "kernelspec": {
      "display_name": "Python 3 (ipykernel)",
      "language": "python",
      "name": "python3"
    },
    "language_info": {
      "codemirror_mode": {
        "name": "ipython",
        "version": 3
      },
      "file_extension": ".py",
      "mimetype": "text/x-python",
      "name": "python",
      "nbconvert_exporter": "python",
      "pygments_lexer": "ipython3",
      "version": "3.8.19"
    }
  },
  "nbformat": 4,
  "nbformat_minor": 0
}